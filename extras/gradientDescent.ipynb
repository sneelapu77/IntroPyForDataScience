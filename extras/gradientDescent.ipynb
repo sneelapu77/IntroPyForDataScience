{
 "cells": [
  {
   "cell_type": "markdown",
   "metadata": {},
   "source": [
    "# Gradient Descent"
   ]
  },
  {
   "cell_type": "code",
   "execution_count": 2,
   "metadata": {},
   "outputs": [],
   "source": [
    "import warnings\n",
    "import numpy as np"
   ]
  },
  {
   "cell_type": "markdown",
   "metadata": {},
   "source": [
    "## Computing Gradient of a Function"
   ]
  },
  {
   "cell_type": "code",
   "execution_count": 3,
   "metadata": {},
   "outputs": [],
   "source": [
    "def partial(f, x, i=0, dx=1e-6):\n",
    "    \"\"\"Computes i-th partial derivative of f at point x.\n",
    "    \n",
    "    Args:\n",
    "        f: objective function.\n",
    "        x: point at which partial derivative is computed.\n",
    "        i: coordinate along which derivative is computed.\n",
    "        dx: slack for finite difference.\n",
    "        \n",
    "    Output:\n",
    "        (float)\n",
    "\n",
    "    \"\"\"\n",
    "    x = x.reshape(1, -1)\n",
    "    h = np.zeros(x.shape)\n",
    "    h[0, i] = dx\n",
    "    return (f(x + h) - f(x - h)) / (2*dx)"
   ]
  },
  {
   "cell_type": "code",
   "execution_count": 4,
   "metadata": {},
   "outputs": [
    {
     "data": {
      "text/plain": [
       "500.00000004502"
      ]
     },
     "execution_count": 4,
     "metadata": {},
     "output_type": "execute_result"
    }
   ],
   "source": [
    "partial(lambda x: x[0, 0]**4 + x[0, 1], np.array([5, 6]))"
   ]
  },
  {
   "cell_type": "code",
   "execution_count": 5,
   "metadata": {},
   "outputs": [],
   "source": [
    "def gradient(f, x, dx=1e-6):\n",
    "    \"\"\"Computes gradient of f at point x.\n",
    "    \n",
    "    Args:\n",
    "        f: objective function.\n",
    "        x: point at which gradient is computed.\n",
    "        dx: slack for finite difference of partial derivatives.\n",
    "        \n",
    "    Output:\n",
    "        (ndarray) of size domain of f.\n",
    "        \n",
    "    \"\"\"\n",
    "    x = x.reshape(1, -1)\n",
    "    dim = x.shape[1]\n",
    "    return np.array([partial(f, x, i, dx) for i in range(dim)]).reshape(1, -1)"
   ]
  },
  {
   "cell_type": "code",
   "execution_count": 6,
   "metadata": {},
   "outputs": [
    {
     "data": {
      "text/plain": [
       "array([[5., 2.]])"
      ]
     },
     "execution_count": 6,
     "metadata": {},
     "output_type": "execute_result"
    }
   ],
   "source": [
    "gradient(lambda x: x[0, 0]**5 + x[0, 1]*2, np.array([1, 10]))"
   ]
  },
  {
   "cell_type": "markdown",
   "metadata": {},
   "source": [
    "## Gradient Descent Class"
   ]
  },
  {
   "cell_type": "code",
   "execution_count": 7,
   "metadata": {},
   "outputs": [],
   "source": [
    "class GD():\n",
    "    \"\"\"Gradient Descent Object.\n",
    "    \n",
    "    Implements gradient descent aiming to compute optimal objective \n",
    "    value of convex functions and local optimal ones of none \n",
    "    convex functions.\n",
    "    \n",
    "    \"\"\"    \n",
    "    def __init__(self, d_dir=gradient, \n",
    "                 rate=(lambda x, y, z, grad: 0.01), \n",
    "                 decay=(lambda x: np.linalg.norm(x)), \n",
    "                 tol=1e-6, max_iter=1000, grad=gradient):\n",
    "        \"\"\"        \n",
    "        Instantiates a GD object.\n",
    "    \n",
    "        Attributes:\n",
    "        d_dir: function computing descent direction.\n",
    "        rate: function computing learning rate ; takes in\n",
    "              - f (function): objective function\n",
    "              - x (ndarray): current iterate\n",
    "              - dir_x (ndarray): output of a descent direction function\n",
    "              - grad (ndarray): gradient function.\n",
    "        decay: function computing decay.\n",
    "        tol: slack tolerance.\n",
    "        max_iter: upper bound on number of iterations.\n",
    "    \n",
    "        \"\"\"\n",
    "        self.d_dir = d_dir\n",
    "        self.rate = rate\n",
    "        self.decay = decay\n",
    "        self.tol = tol\n",
    "        self.max_iter = max_iter\n",
    "        self.grad = gradient\n",
    "    \n",
    "    def __call__(self, x, f):\n",
    "        \"\"\"Calling gradient descent object with specific starting point and optimal function.\n",
    "        \n",
    "        Args:\n",
    "            x: initial starting point for descent.\n",
    "            f: objective function of optimisation problem.\n",
    "        \n",
    "        Output:\n",
    "            (float) sub-optimal value up to tolerance if execution is proper.\n",
    "            (ndarray) list of gradient descent iterates.\n",
    "            \n",
    "        \"\"\"\n",
    "        x = x.reshape(1, -1)\n",
    "        n_iter = 0\n",
    "        dir_x = -self.d_dir(f, x, self.tol)\n",
    "        delta_x = self.rate(f, x, dir_x, n_iter) * dir_x\n",
    "        iters, iters_dir = x, delta_x\n",
    "        grad_f_x = self.grad(f, x)\n",
    "        decay = self.decay(grad_f_x)\n",
    "        while decay > self.tol and n_iter < self.max_iter:\n",
    "            ## Deciding on direction\n",
    "            dir_x = -self.d_dir(f, x, self.tol)\n",
    "            delta_x = self.rate(f, x, dir_x, n_iter) * dir_x\n",
    "            ## Updating iterate\n",
    "            x = x + delta_x\n",
    "            ## Storing on-going data\n",
    "            iters_dir = np.vstack([iters_dir, delta_x])\n",
    "            iters = np.vstack([iters, x])\n",
    "            ## Computing decay\n",
    "            grad_f_x = self.grad(f, x)\n",
    "            decay = self.decay(grad_f_x)\n",
    "            ## Updating iteration number\n",
    "            n_iter += 1\n",
    "        msg = \" Iteration nu. = {}\\n approx. = {}\\n ob value = {}\\n and decay = {}.\"\n",
    "        print(msg.format(n_iter, x.flatten(), f(x), decay))\n",
    "        if decay > self.tol:\n",
    "            warnings.warn(\"Decay didn't get under tolerance rate.\", RuntimeWarning)\n",
    "        return (x, iters, iters_dir, n_iter) "
   ]
  },
  {
   "cell_type": "code",
   "execution_count": 8,
   "metadata": {},
   "outputs": [],
   "source": [
    "DG_classic = GD()"
   ]
  },
  {
   "cell_type": "code",
   "execution_count": 9,
   "metadata": {},
   "outputs": [
    {
     "name": "stdout",
     "output_type": "stream",
     "text": [
      " Iteration nu. = 290\n",
      " approx. = [-0.33333317]\n",
      " ob value = [0.66666667]\n",
      " and decay = 9.987566329527908e-07.\n"
     ]
    }
   ],
   "source": [
    "op_pt, iters, iters_dir, n_iter = DG_classic(np.array([10]), lambda x: 3*x[0]**2 + 2*x[0] + 1)"
   ]
  },
  {
   "cell_type": "code",
   "execution_count": 10,
   "metadata": {},
   "outputs": [],
   "source": [
    "from matplotlib import pyplot as plt\n",
    "import seaborn as sns"
   ]
  },
  {
   "cell_type": "code",
   "execution_count": 11,
   "metadata": {},
   "outputs": [],
   "source": [
    "sns.set_style(\"whitegrid\")"
   ]
  },
  {
   "cell_type": "code",
   "execution_count": 12,
   "metadata": {},
   "outputs": [
    {
     "data": {
      "text/plain": [
       "<matplotlib.legend.Legend at 0x113816160>"
      ]
     },
     "execution_count": 12,
     "metadata": {},
     "output_type": "execute_result"
    },
    {
     "data": {
      "image/png": "[encoded data removed]",
      "text/plain": [
       "<matplotlib.figure.Figure at 0x10dde6668>"
      ]
     },
     "metadata": {},
     "output_type": "display_data"
    }
   ],
   "source": [
    "fig, ax = plt.subplots(figsize=(16, 10))\n",
    "f = lambda x : 3*x**2 + 2*x + 1\n",
    "x = np.linspace(-10, 10, 400)\n",
    "ax.set_ylim(-50, 400)\n",
    "ax.plot(x, f(x), \"k-\", label=\"Objective function\")\n",
    "# reshaping iters for input\n",
    "iters_reshape = iters.reshape(iters.shape[0], 1)\n",
    "ax.plot(iters_reshape, f(iters_reshape), 'r.', label=\"Iterates\")\n",
    "ax.quiver(iters_reshape, f(iters_reshape), iters_dir, -1, \n",
    "          color='r', scale=None, width=0.002, headwidth=5, headlength=10)\n",
    "ax.set_title(\"Descente de gradient en dimension 1.\")\n",
    "ax.legend()"
   ]
  },
  {
   "cell_type": "code",
   "execution_count": 15,
   "metadata": {},
   "outputs": [
    {
     "name": "stdout",
     "output_type": "stream",
     "text": [
      " Iteration nu. = 739\n",
      " approx. = [ 4.92222198e-07 -9.18170480e-23]\n",
      " ob value = 2.422826926562737e-13\n",
      " and decay = 9.844443969189396e-07.\n"
     ]
    }
   ],
   "source": [
    "g = lambda x: x[0, 0]**2 + 10*x[0, 1]**2\n",
    "op_pt_2, iters_2, iters_dir_2, n_iter_2 = DG_classic(np.array([1.5, 1.5]), g)"
   ]
  },
  {
   "cell_type": "code",
   "execution_count": null,
   "metadata": {},
   "outputs": [],
   "source": []
  },
  {
   "cell_type": "code",
   "execution_count": 14,
   "metadata": {},
   "outputs": [
    {
     "data": {
      "text/plain": [
       "array([[[0., 1., 2., 0., 1., 2., 0., 1., 2.],\n",
       "        [0., 0., 0., 1., 1., 1., 2., 2., 2.]]])"
      ]
     },
     "execution_count": 14,
     "metadata": {},
     "output_type": "execute_result"
    }
   ],
   "source": [
    "x = np.linspace(0, 2, 3)\n",
    "y = np.linspace(0, 2, 3)\n",
    "X, Y = np.meshgrid(x, y)\n",
    "np.vstack([X.reshape(1, -1), Y.reshape(1, -1)]).reshape(1, 2, -1)"
   ]
  },
  {
   "cell_type": "code",
   "execution_count": null,
   "metadata": {},
   "outputs": [],
   "source": []
  }
 ],
 "metadata": {
  "kernelspec": {
   "display_name": "Python 3",
   "language": "python",
   "name": "python3"
  },
  "language_info": {
   "codemirror_mode": {
    "name": "ipython",
    "version": 3
   },
   "file_extension": ".py",
   "mimetype": "text/x-python",
   "name": "python",
   "nbconvert_exporter": "python",
   "pygments_lexer": "ipython3",
   "version": "3.6.4"
  }
 },
 "nbformat": 4,
 "nbformat_minor": 2
}
