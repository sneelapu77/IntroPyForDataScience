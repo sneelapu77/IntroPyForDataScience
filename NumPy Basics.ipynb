{
 "cells": [
  {
   "cell_type": "markdown",
   "metadata": {
    "slideshow": {
     "slide_type": "slide"
    }
   },
   "source": [
    "# NumPy Basics\n",
    "\n",
    "NumPy is the standard numerical library available in the `python` realm. It allows quicker computations on numerical array-like structures. Central objects in the `numpy` library are `ndarray`s. These are *homogenuous* $n$-dimensional arrays ; elements of the array are all of the same type. "
   ]
  },
  {
   "cell_type": "markdown",
   "metadata": {
    "slideshow": {
     "slide_type": "subslide"
    }
   },
   "source": [
    "Efficiency of `ndarray` objects come from the fact that element-wise operations are `C` implemented to ensure low complexity. One can translate loop-like operations on array-like structures into available corresponding implementation for `ndarrays`. This process is called *vectorisation* ; it improves efficiency and must be on mind when dealing with scientific programming. "
   ]
  },
  {
   "cell_type": "markdown",
   "metadata": {
    "slideshow": {
     "slide_type": "slide"
    }
   },
   "source": [
    "## Defining an `ndarray` object"
   ]
  },
  {
   "cell_type": "code",
   "execution_count": 1,
   "metadata": {
    "collapsed": true,
    "slideshow": {
     "slide_type": "fragment"
    }
   },
   "outputs": [],
   "source": [
    "import numpy as np"
   ]
  },
  {
   "cell_type": "code",
   "execution_count": 2,
   "metadata": {
    "collapsed": true,
    "slideshow": {
     "slide_type": "fragment"
    }
   },
   "outputs": [],
   "source": [
    "import math as m"
   ]
  },
  {
   "cell_type": "code",
   "execution_count": 3,
   "metadata": {
    "collapsed": true
   },
   "outputs": [],
   "source": [
    "np_matrix = np.array([1, 2, 4., 5])\n"
   ]
  },
  {
   "cell_type": "code",
   "execution_count": 4,
   "metadata": {
    "slideshow": {
     "slide_type": "fragment"
    }
   },
   "outputs": [
    {
     "data": {
      "text/plain": [
       "(4,)"
      ]
     },
     "execution_count": 4,
     "metadata": {},
     "output_type": "execute_result"
    }
   ],
   "source": [
    "np_matrix.shape"
   ]
  },
  {
   "cell_type": "markdown",
   "metadata": {
    "slideshow": {
     "slide_type": "subslide"
    }
   },
   "source": [
    "One can build up a $2$-dimensional `ndarray` object as a list of lists. The matrix in such a case is given line by line. An `ndarray` object comes with a lot of attributes, we'll be seeing a number of them while going on. Here are the ones enclosing the shape of the array."
   ]
  },
  {
   "cell_type": "code",
   "execution_count": 5,
   "metadata": {
    "collapsed": true,
    "slideshow": {
     "slide_type": "fragment"
    }
   },
   "outputs": [],
   "source": [
    "np_matrix = np.array([[1, 2, 3, 4.], [5., -1, 2, 9]])"
   ]
  },
  {
   "cell_type": "code",
   "execution_count": 6,
   "metadata": {
    "slideshow": {
     "slide_type": "fragment"
    }
   },
   "outputs": [
    {
     "data": {
      "text/plain": [
       "(2, 4)"
      ]
     },
     "execution_count": 6,
     "metadata": {},
     "output_type": "execute_result"
    }
   ],
   "source": [
    "np_matrix.shape"
   ]
  },
  {
   "cell_type": "markdown",
   "metadata": {
    "slideshow": {
     "slide_type": "subslide"
    }
   },
   "source": [
    "In many cases one has to initialize an `ndarray`, either by giving random coefficients to the elements of the matrix or by giving a specified type matrix. Here are the standard available `ndarray`s."
   ]
  },
  {
   "cell_type": "code",
   "execution_count": 11,
   "metadata": {
    "slideshow": {
     "slide_type": "fragment"
    }
   },
   "outputs": [
    {
     "data": {
      "text/plain": [
       "array([[ 0.,  0.,  0.],\n",
       "       [ 0.,  0.,  0.]])"
      ]
     },
     "execution_count": 11,
     "metadata": {},
     "output_type": "execute_result"
    }
   ],
   "source": [
    "np.zeros((2, 3))"
   ]
  },
  {
   "cell_type": "code",
   "execution_count": 12,
   "metadata": {
    "slideshow": {
     "slide_type": "subslide"
    }
   },
   "outputs": [
    {
     "data": {
      "text/plain": [
       "array([[ 1.,  1.,  1.],\n",
       "       [ 1.,  1.,  1.]])"
      ]
     },
     "execution_count": 12,
     "metadata": {},
     "output_type": "execute_result"
    }
   ],
   "source": [
    "np.ones((2, 3))"
   ]
  },
  {
   "cell_type": "code",
   "execution_count": 13,
   "metadata": {
    "slideshow": {
     "slide_type": "fragment"
    }
   },
   "outputs": [
    {
     "data": {
      "text/plain": [
       "array([[ 1.,  0.,  0.],\n",
       "       [ 0.,  1.,  0.],\n",
       "       [ 0.,  0.,  1.]])"
      ]
     },
     "execution_count": 13,
     "metadata": {},
     "output_type": "execute_result"
    }
   ],
   "source": [
    "np.identity(3)"
   ]
  },
  {
   "cell_type": "code",
   "execution_count": 14,
   "metadata": {},
   "outputs": [
    {
     "data": {
      "text/plain": [
       "array([[1, 0, 0, 0],\n",
       "       [0, 2, 0, 0],\n",
       "       [0, 0, 3, 0],\n",
       "       [0, 0, 0, 4]])"
      ]
     },
     "execution_count": 14,
     "metadata": {},
     "output_type": "execute_result"
    }
   ],
   "source": [
    "np.diag((1, 2, 3, 4))"
   ]
  },
  {
   "cell_type": "markdown",
   "metadata": {
    "slideshow": {
     "slide_type": "subslide"
    }
   },
   "source": [
    "To build up a random `ndarray` one can use available `numpy` built-in random generators."
   ]
  },
  {
   "cell_type": "code",
   "execution_count": 7,
   "metadata": {
    "collapsed": true,
    "slideshow": {
     "slide_type": "fragment"
    }
   },
   "outputs": [],
   "source": [
    "from numpy.random import rand"
   ]
  },
  {
   "cell_type": "code",
   "execution_count": 8,
   "metadata": {
    "slideshow": {
     "slide_type": "fragment"
    }
   },
   "outputs": [
    {
     "data": {
      "text/plain": [
       "array([[ 0.41336162,  0.89542031,  0.56737693,  0.60750911],\n",
       "       [ 0.93169608,  0.83901428,  0.75380584,  0.05409844],\n",
       "       [ 0.84159329,  0.58687299,  0.51530587,  0.96867285],\n",
       "       [ 0.65552795,  0.73184669,  0.01226483,  0.07002372]])"
      ]
     },
     "execution_count": 8,
     "metadata": {},
     "output_type": "execute_result"
    }
   ],
   "source": [
    "rand(4, 4)"
   ]
  },
  {
   "cell_type": "code",
   "execution_count": 9,
   "metadata": {
    "collapsed": true,
    "slideshow": {
     "slide_type": "fragment"
    }
   },
   "outputs": [],
   "source": [
    "from numpy.random import randn"
   ]
  },
  {
   "cell_type": "code",
   "execution_count": 10,
   "metadata": {
    "slideshow": {
     "slide_type": "subslide"
    }
   },
   "outputs": [
    {
     "data": {
      "text/plain": [
       "array([[ -4.55080470e-01,   5.39304983e-02,   6.38493564e-01],\n",
       "       [  1.23265778e+00,  -1.18745385e+00,  -6.69545744e-01],\n",
       "       [ -1.28361235e+00,   4.05081434e-01,   5.68576169e-01],\n",
       "       [  1.21525682e+00,   5.74137585e-01,   1.14004630e+00],\n",
       "       [ -8.27522150e-01,  -8.40261991e-01,   1.02615353e-01],\n",
       "       [ -3.24975917e-02,   1.08087243e+00,  -2.81723806e-01],\n",
       "       [  5.39437615e-01,   9.63894558e-02,   5.07409353e-01],\n",
       "       [ -1.30581632e+00,   1.60500924e+00,   8.03904981e-01],\n",
       "       [ -3.71653313e-01,  -4.14321890e-01,   1.28911794e+00],\n",
       "       [  1.65363698e+00,   4.16786360e-01,   3.06611590e-01],\n",
       "       [ -6.29953487e-01,  -1.71565150e+00,  -9.71488349e-01],\n",
       "       [ -2.25898429e+00,  -2.36749181e+00,  -5.61474953e-01],\n",
       "       [ -1.04600949e+00,  -9.16620522e-01,   1.01584127e+00],\n",
       "       [  4.68672317e-01,  -1.46080545e-01,   1.19693414e+00],\n",
       "       [  8.12479547e-01,  -3.30502516e-01,  -4.72907739e-01],\n",
       "       [  4.46873892e-01,   4.35076842e-01,  -5.08048292e-01],\n",
       "       [ -2.52505307e+00,   7.46301924e-01,  -8.06112122e-03],\n",
       "       [ -1.01430475e+00,  -6.35233813e-03,  -1.28032250e-01],\n",
       "       [  1.01679142e+00,  -1.20981861e+00,  -7.64073615e-01],\n",
       "       [  1.95530331e-01,  -2.37069542e-01,   6.19675038e-01],\n",
       "       [  2.82594931e-01,   3.57393545e-01,   3.48844935e-01],\n",
       "       [  3.89339912e-01,  -9.71878229e-01,   1.18856493e+00],\n",
       "       [ -1.68318665e-01,   1.46153729e+00,   3.46678334e-01],\n",
       "       [  5.15796647e-01,  -2.53389449e+00,  -3.41638405e-01],\n",
       "       [  2.33049397e-01,  -1.66054317e-01,   1.10693206e-01],\n",
       "       [ -1.08965454e+00,   1.64915098e+00,   7.29401602e-01],\n",
       "       [  7.62801939e-01,   5.70316674e-01,   4.31781345e-01],\n",
       "       [ -3.11740150e-01,  -2.56736985e-01,  -5.76373247e-01],\n",
       "       [  5.01097069e-01,   9.46788345e-01,   1.48283735e-01],\n",
       "       [ -4.53909577e-01,  -4.18251141e-01,   2.16157851e-01],\n",
       "       [ -4.96208111e-01,  -2.10568670e-01,   4.32239418e-01],\n",
       "       [ -2.57983843e-01,  -6.05702760e-01,  -7.63646516e-01],\n",
       "       [  1.77117995e-02,   3.16337196e-01,   6.11851678e-01],\n",
       "       [  4.14405592e-01,   1.62032109e+00,  -9.23130768e-01],\n",
       "       [  1.92936432e+00,   1.05553036e+00,  -4.68348990e-01],\n",
       "       [  5.50727606e-01,  -3.02148946e-01,   3.20916583e+00],\n",
       "       [ -1.48572740e+00,  -1.10312504e+00,  -1.60124037e+00],\n",
       "       [  4.42149841e-01,  -9.84204380e-01,  -5.30597703e-01],\n",
       "       [ -1.32307068e+00,  -1.11926217e+00,  -1.85147597e+00],\n",
       "       [  7.52716455e-01,   1.20060562e+00,  -2.44587097e+00],\n",
       "       [ -3.42926624e-01,  -1.64460987e+00,   2.99299657e-02],\n",
       "       [  2.40034598e+00,  -1.66717113e+00,  -1.07619852e+00],\n",
       "       [ -1.51746786e+00,   4.48175479e-01,  -8.92223465e-01],\n",
       "       [  1.33715240e+00,  -1.67160912e+00,  -1.38906072e+00],\n",
       "       [ -2.07998185e+00,   1.04650315e+00,  -9.82368869e-01],\n",
       "       [ -1.45846783e+00,   1.29731517e-01,   6.36181036e-02],\n",
       "       [  3.76141027e-01,  -4.96294761e-01,  -3.51353236e-02],\n",
       "       [ -8.04425271e-01,   7.00535783e-01,  -2.00927961e+00],\n",
       "       [ -1.12048459e+00,   1.71989477e+00,   1.72799009e-01],\n",
       "       [  3.79055294e-01,  -8.68070357e-01,   1.64070204e-01],\n",
       "       [  5.46354432e-02,  -9.07039424e-01,  -5.12030477e-01],\n",
       "       [ -7.24711263e-01,   9.55625916e-01,   5.29653372e-01],\n",
       "       [ -1.83936527e+00,  -6.64136126e-01,   8.09376480e-01],\n",
       "       [ -1.37422330e+00,  -6.94707990e-01,   1.33255774e+00],\n",
       "       [ -9.42379967e-01,  -1.57105454e+00,  -2.14696751e+00],\n",
       "       [ -1.86197684e-01,   7.41727620e-01,   1.11911767e+00],\n",
       "       [ -1.19927535e+00,   1.43568336e+00,   7.65202678e-01],\n",
       "       [  7.05688946e-01,   8.02548349e-01,  -1.45260855e+00],\n",
       "       [  5.13380380e-01,   1.10624489e+00,   1.37695716e+00],\n",
       "       [ -1.99818133e+00,  -1.29448417e+00,   1.46757887e+00],\n",
       "       [  3.62142381e-01,  -1.41865640e+00,  -1.10265589e+00],\n",
       "       [ -8.72361002e-01,   4.78922801e-01,  -3.79234107e-01],\n",
       "       [ -1.46830790e+00,  -1.13976829e-01,  -3.54357118e-01],\n",
       "       [  3.45192770e-01,   1.18415277e+00,   1.04615006e+00],\n",
       "       [  4.00777608e-01,  -4.32611492e-01,  -8.65792993e-01],\n",
       "       [  2.41827685e-01,  -3.95244233e-01,   4.96097206e-01],\n",
       "       [ -1.26881050e+00,   7.33736922e-01,   3.91883452e-01],\n",
       "       [ -7.12050319e-01,   4.62421797e-01,   1.70643338e-02],\n",
       "       [ -2.81310058e-02,  -6.60076202e-01,  -1.16212617e+00],\n",
       "       [ -1.48537193e-01,   1.31220647e+00,  -2.01871886e+00],\n",
       "       [ -2.36651932e-01,  -1.75762510e+00,  -9.34182219e-01],\n",
       "       [ -6.05632758e-01,   2.77100582e+00,   3.64528143e-01],\n",
       "       [ -4.10074889e-01,   1.10235948e-01,   1.39908817e+00],\n",
       "       [  1.14414690e+00,   2.86088131e-01,  -1.64851597e+00],\n",
       "       [  1.48276013e+00,  -7.30682968e-01,   1.52302394e+00],\n",
       "       [ -4.35300731e-01,  -4.54675350e-01,  -8.77773771e-01],\n",
       "       [  3.42869818e-01,  -1.20867146e-01,  -1.46271136e+00],\n",
       "       [ -7.49476984e-01,  -1.11491519e-01,   5.91319426e-01],\n",
       "       [ -1.48838883e+00,   8.08460819e-02,  -2.72565790e+00],\n",
       "       [  1.32012445e+00,  -2.28002940e-01,  -1.11461204e+00],\n",
       "       [ -6.01638789e-01,  -1.50986865e+00,  -2.67938773e+00],\n",
       "       [  1.33210705e+00,  -2.63170613e+00,  -2.19872411e-01],\n",
       "       [ -1.17984780e+00,  -1.04396106e+00,  -3.13821400e-01],\n",
       "       [ -6.38649593e-01,  -6.28739504e-01,  -2.75750711e-01],\n",
       "       [ -3.06881537e-01,   1.45095638e+00,  -9.60014258e-01],\n",
       "       [  2.84724107e-01,  -3.19483243e-01,  -6.57099885e-01],\n",
       "       [  1.01736397e+00,  -2.55114747e-01,   6.72640070e-01],\n",
       "       [  5.73164669e-01,   4.15003659e-01,   1.81339062e-01],\n",
       "       [ -5.92773174e-01,   1.13120402e+00,   1.23029985e+00],\n",
       "       [  1.71792265e+00,   5.78717455e-01,   1.20100058e+00],\n",
       "       [  8.15032097e-02,   2.69691218e+00,  -1.45611694e-01],\n",
       "       [  1.09193045e+00,  -4.60638860e-01,  -7.76734812e-01],\n",
       "       [  1.82176368e+00,   1.11049043e+00,   1.73373702e-01],\n",
       "       [  1.25473460e+00,   4.04185831e-01,   1.55021360e+00],\n",
       "       [ -1.10958384e+00,  -3.69164419e-01,   9.74189609e-01],\n",
       "       [  4.60125636e-01,   2.78074950e+00,  -3.54060704e-01],\n",
       "       [ -3.78465347e-01,  -1.05747516e+00,   9.26024122e-01],\n",
       "       [  6.64272932e-01,   7.21453272e-01,  -7.83715180e-01],\n",
       "       [  6.45301833e-01,  -1.73357912e+00,   7.72392623e-01],\n",
       "       [  1.24192105e+00,   1.04288470e+00,   1.93176404e+00],\n",
       "       [  3.33042137e-01,   4.96119567e-01,  -3.33611057e-01],\n",
       "       [  9.26544894e-01,  -2.39488180e-01,   2.98098643e-01],\n",
       "       [ -1.13181716e+00,   7.97347644e-02,  -9.59739838e-01],\n",
       "       [  9.95516374e-01,   2.17460949e-01,   1.76263976e+00],\n",
       "       [  5.82365480e-01,  -8.31889836e-01,   1.55787836e+00],\n",
       "       [ -1.21684380e-01,   1.04811977e+00,  -8.65548805e-01],\n",
       "       [ -1.98158604e+00,  -6.87379017e-01,  -6.78627647e-01],\n",
       "       [  6.46913388e-01,  -1.43076014e+00,   1.50903174e-01],\n",
       "       [  9.42192930e-01,   3.02691608e-01,  -9.01526523e-02],\n",
       "       [  3.05844377e+00,  -1.57184915e+00,   7.31326823e-01],\n",
       "       [  6.59891736e-01,  -1.10294854e+00,   2.33431357e-01],\n",
       "       [ -1.53707259e+00,   2.11482837e+00,   6.81544305e-01],\n",
       "       [ -1.42581217e-02,  -1.58323078e+00,  -2.29509707e-01],\n",
       "       [  2.21468617e-01,  -1.01015252e+00,   2.72000494e-01],\n",
       "       [ -1.53680840e+00,   1.20892136e+00,   4.90608712e-01],\n",
       "       [  5.28939290e-01,   1.10656039e+00,  -1.15445301e+00],\n",
       "       [  1.06992629e+00,   3.41386770e-01,   1.12663291e+00],\n",
       "       [  1.84758837e-01,   1.59174865e-01,   1.23264810e+00],\n",
       "       [  1.69050016e-01,  -2.64837030e-01,  -3.78779474e-01],\n",
       "       [ -5.09751027e-01,  -3.55329303e-01,  -1.27204083e+00],\n",
       "       [  2.53839696e+00,  -1.56210785e-01,   1.25433864e+00],\n",
       "       [  8.08352035e-01,   1.01341127e+00,  -6.05326140e-01],\n",
       "       [ -7.77383643e-01,   1.92324017e+00,   2.93997009e-02],\n",
       "       [ -8.52595816e-01,   2.29223934e-01,  -1.54620149e-01],\n",
       "       [ -8.75272179e-01,   5.63934337e-01,  -1.29462122e+00],\n",
       "       [  6.92471335e-01,   4.15522263e-01,   5.19917740e-01],\n",
       "       [  5.33963679e-01,  -5.75524406e-01,   1.25722383e-01],\n",
       "       [ -2.52027071e+00,   1.53796128e-01,  -1.04558536e+00],\n",
       "       [  3.91435259e-01,  -1.59537009e+00,  -1.78512126e-01],\n",
       "       [  1.23700412e+00,  -5.02137656e-02,   7.22166337e-01],\n",
       "       [  1.02194227e+00,   8.11932947e-01,   9.94393360e-01],\n",
       "       [  9.56853522e-01,  -1.00676674e-01,   3.26716626e-01],\n",
       "       [ -1.06408437e+00,  -2.11530062e-01,   9.97677027e-01],\n",
       "       [ -2.36793948e-01,   5.42171920e-01,  -7.73900626e-01],\n",
       "       [  8.76325581e-01,  -2.93754778e-03,  -6.59408694e-01],\n",
       "       [  7.56191781e-01,  -1.27795534e+00,  -5.61306412e-01],\n",
       "       [ -9.96945924e-01,   8.78484457e-01,   9.87925937e-01],\n",
       "       [ -1.14998679e+00,  -1.68719731e+00,  -5.25888264e-01],\n",
       "       [ -8.00845686e-01,  -8.59383594e-01,  -4.58282378e-01],\n",
       "       [ -3.45754048e-01,  -1.42935844e+00,  -1.14013728e+00],\n",
       "       [  4.11311977e-01,  -3.78687301e-01,  -7.41463145e-01],\n",
       "       [  1.16742118e+00,   1.75783152e+00,  -9.73268127e-02],\n",
       "       [  6.97015196e-02,  -1.72918631e+00,  -2.91857332e-01],\n",
       "       [  1.48916010e+00,   4.36613319e-01,  -1.40250276e-01],\n",
       "       [  1.18295563e-01,   1.14873870e+00,  -1.51237768e+00],\n",
       "       [  3.36232763e-01,   1.05651603e+00,  -9.44103389e-01],\n",
       "       [  6.09559829e-01,  -6.14910463e-01,  -1.04564945e+00],\n",
       "       [  8.53218580e-01,  -4.56213150e-01,  -6.23207043e-01],\n",
       "       [ -6.83832768e-01,   1.34534644e+00,   7.84699707e-01],\n",
       "       [  6.38211118e-01,   2.61019003e-01,  -2.47989733e-01],\n",
       "       [ -2.49058388e-01,   2.44038136e-01,   2.62001517e-01],\n",
       "       [ -1.18402363e-01,  -1.60941476e+00,  -8.00514968e-01],\n",
       "       [  5.60256768e-01,   5.02641087e-01,   1.76536318e+00],\n",
       "       [  3.70397880e-01,  -3.74219827e-01,  -1.40171374e-01],\n",
       "       [  6.12390787e-01,   2.22419539e+00,   1.01213264e+00],\n",
       "       [ -9.47307092e-01,   2.03512726e-01,  -4.85073572e-01],\n",
       "       [  6.30508969e-01,  -7.50142509e-01,  -7.22202789e-02],\n",
       "       [ -1.07011732e+00,   1.98560900e+00,   7.74612899e-02],\n",
       "       [  7.45730214e-01,   1.32888960e+00,   8.26200443e-01],\n",
       "       [  8.48572812e-01,   7.46457554e-01,   3.27095982e-02],\n",
       "       [ -1.36589563e+00,   1.20835990e+00,  -1.03154514e+00],\n",
       "       [ -8.14942922e-01,  -5.70643116e-01,   5.02644653e-01],\n",
       "       [ -1.82062981e-01,  -8.52607644e-01,   1.37225804e+00],\n",
       "       [  6.29164467e-01,   3.01667810e-01,  -6.38438368e-01],\n",
       "       [ -2.37532726e-01,  -5.90493577e-01,  -4.10641614e-01],\n",
       "       [ -7.01356206e-01,   6.09896071e-01,   3.28855282e-01],\n",
       "       [ -1.81607870e+00,   5.17685778e-01,  -1.13734773e+00],\n",
       "       [  5.61811440e-01,  -1.54480431e-02,  -1.01430422e+00],\n",
       "       [  2.62864024e+00,  -1.29334200e-01,  -8.96331584e-01],\n",
       "       [  2.75885456e+00,  -3.47212773e-01,   1.60558291e-01],\n",
       "       [ -1.63001673e+00,  -2.85049762e-02,   4.53147867e-01],\n",
       "       [ -1.08846866e+00,  -2.59130784e-02,   1.22921810e+00],\n",
       "       [ -2.07745043e+00,   9.45336206e-01,   1.00042392e+00],\n",
       "       [  8.73982134e-01,  -1.70618278e+00,  -1.51110980e+00],\n",
       "       [  1.17561248e+00,  -2.65502820e-01,   1.63921985e+00],\n",
       "       [  1.07139210e-01,   9.24156545e-01,  -1.07141405e+00],\n",
       "       [ -1.15508897e+00,  -8.79264302e-01,  -3.47462969e-01],\n",
       "       [ -3.32711648e-01,  -2.14474052e+00,   1.86136371e+00],\n",
       "       [  1.25664980e-01,   6.35680702e-01,   1.39396279e+00],\n",
       "       [ -1.83678442e+00,  -1.08263691e+00,  -1.52731788e+00],\n",
       "       [  1.33974731e+00,  -2.37528923e+00,   7.90400337e-01],\n",
       "       [  1.95302235e-01,  -7.28348205e-01,   6.27330730e-01],\n",
       "       [ -2.64443618e-02,  -4.74925724e-01,  -6.86081998e-01],\n",
       "       [ -1.68867098e-01,   5.23471452e-01,   1.21581215e+00],\n",
       "       [ -9.10964326e-01,   1.44139558e-01,  -1.97903916e+00],\n",
       "       [ -1.15096103e+00,  -5.35375199e-01,  -1.78198476e+00],\n",
       "       [  4.31843785e-01,   6.99532475e-01,  -3.12456837e-02],\n",
       "       [  1.32623396e+00,  -3.27134070e-01,  -7.63449794e-01],\n",
       "       [  5.54630630e-01,  -1.58325292e+00,  -1.23202432e+00],\n",
       "       [  8.94009269e-01,  -7.05764742e-01,  -1.14754006e+00],\n",
       "       [  1.53348717e-01,   1.36724023e+00,  -2.01665648e+00],\n",
       "       [  6.02337918e-03,  -1.09315519e+00,  -6.40836716e-01],\n",
       "       [ -1.06434791e+00,  -3.14191587e-01,   5.21216067e-02],\n",
       "       [  2.26227144e+00,  -2.83354768e-01,  -1.61213268e+00],\n",
       "       [ -1.19094745e+00,  -2.58465892e-01,   9.62679498e-01],\n",
       "       [  1.08202212e+00,  -2.42970775e-02,   4.62512209e-01],\n",
       "       [ -4.79694439e-02,   1.55280038e+00,  -7.39332838e-01],\n",
       "       [  7.20974099e-02,  -2.52727686e-01,  -3.46300952e-01],\n",
       "       [  7.28170566e-01,   1.77212920e-02,  -1.98963336e+00],\n",
       "       [ -2.21070159e-01,   2.41466488e-01,  -3.56025478e-01]])"
      ]
     },
     "execution_count": 10,
     "metadata": {},
     "output_type": "execute_result"
    }
   ],
   "source": [
    "randn(200, 3)"
   ]
  },
  {
   "cell_type": "markdown",
   "metadata": {
    "slideshow": {
     "slide_type": "subslide"
    }
   },
   "source": [
    "A useful way of building up matrices out of lists is to reshape the standard one-line corresponding numpy array object. "
   ]
  },
  {
   "cell_type": "code",
   "execution_count": 38,
   "metadata": {
    "slideshow": {
     "slide_type": "fragment"
    }
   },
   "outputs": [
    {
     "data": {
      "text/plain": [
       "array([[ 1.,  2.],\n",
       "       [ 3.,  4.],\n",
       "       [ 5., -1.],\n",
       "       [ 2.,  9.]])"
      ]
     },
     "execution_count": 38,
     "metadata": {},
     "output_type": "execute_result"
    }
   ],
   "source": [
    "np_matrix.reshape(4, 2)"
   ]
  },
  {
   "cell_type": "code",
   "execution_count": 40,
   "metadata": {
    "slideshow": {
     "slide_type": "fragment"
    }
   },
   "outputs": [
    {
     "data": {
      "text/plain": [
       "[1,\n",
       " 1,\n",
       " 1,\n",
       " 1,\n",
       " 1,\n",
       " 1,\n",
       " 1,\n",
       " 1,\n",
       " 1,\n",
       " 1,\n",
       " 1,\n",
       " 1,\n",
       " 1,\n",
       " 1,\n",
       " 1,\n",
       " 1,\n",
       " 1,\n",
       " 1,\n",
       " 1,\n",
       " 1,\n",
       " 1,\n",
       " 1,\n",
       " 1,\n",
       " 1,\n",
       " 1,\n",
       " 1,\n",
       " 1,\n",
       " 1,\n",
       " 1,\n",
       " 1]"
      ]
     },
     "execution_count": 40,
     "metadata": {},
     "output_type": "execute_result"
    }
   ],
   "source": [
    "A = [1]*30\n",
    "A"
   ]
  },
  {
   "cell_type": "code",
   "execution_count": 42,
   "metadata": {
    "collapsed": true,
    "slideshow": {
     "slide_type": "fragment"
    }
   },
   "outputs": [],
   "source": [
    "np_A = np.array(A)"
   ]
  },
  {
   "cell_type": "code",
   "execution_count": 48,
   "metadata": {
    "collapsed": true
   },
   "outputs": [],
   "source": [
    "np_B = np_A.reshape(3, -1)"
   ]
  },
  {
   "cell_type": "code",
   "execution_count": 49,
   "metadata": {
    "slideshow": {
     "slide_type": "fragment"
    }
   },
   "outputs": [
    {
     "data": {
      "text/plain": [
       "array([[1, 1, 1, 1, 1, 1, 1, 1, 1, 1],\n",
       "       [1, 1, 1, 1, 1, 1, 1, 1, 1, 1],\n",
       "       [1, 1, 1, 1, 1, 1, 1, 1, 1, 1]])"
      ]
     },
     "execution_count": 49,
     "metadata": {},
     "output_type": "execute_result"
    }
   ],
   "source": [
    "np_B"
   ]
  },
  {
   "cell_type": "code",
   "execution_count": 50,
   "metadata": {
    "slideshow": {
     "slide_type": "fragment"
    }
   },
   "outputs": [
    {
     "data": {
      "text/plain": [
       "(3, 10)"
      ]
     },
     "execution_count": 50,
     "metadata": {},
     "output_type": "execute_result"
    }
   ],
   "source": [
    "np_B.shape"
   ]
  },
  {
   "cell_type": "markdown",
   "metadata": {
    "slideshow": {
     "slide_type": "subslide"
    }
   },
   "source": [
    "Another useful array definition is the one given by `arange`. It is the `numpy` version of `python` range. It returns a one dimensional array containing an arithmetic sequence of integers following range syntax."
   ]
  },
  {
   "cell_type": "code",
   "execution_count": 20,
   "metadata": {
    "collapsed": true,
    "slideshow": {
     "slide_type": "fragment"
    }
   },
   "outputs": [],
   "source": [
    "np.arange?"
   ]
  },
  {
   "cell_type": "code",
   "execution_count": 17,
   "metadata": {
    "slideshow": {
     "slide_type": "fragment"
    }
   },
   "outputs": [
    {
     "data": {
      "text/plain": [
       "array([-1,  1,  3,  5,  7,  9])"
      ]
     },
     "execution_count": 17,
     "metadata": {},
     "output_type": "execute_result"
    }
   ],
   "source": [
    "np_A = np.arange(-1, 10, 2)\n",
    "np_A"
   ]
  },
  {
   "cell_type": "code",
   "execution_count": 19,
   "metadata": {
    "slideshow": {
     "slide_type": "fragment"
    }
   },
   "outputs": [
    {
     "data": {
      "text/plain": [
       "array([[-1,  1],\n",
       "       [ 3,  5],\n",
       "       [ 7,  9]])"
      ]
     },
     "execution_count": 19,
     "metadata": {},
     "output_type": "execute_result"
    }
   ],
   "source": [
    "np_A = np_A.reshape(-1, 2)\n",
    "np_A"
   ]
  },
  {
   "cell_type": "markdown",
   "metadata": {
    "slideshow": {
     "slide_type": "subslide"
    }
   },
   "source": [
    "In many applications one looks for a sequence of floats modelling the real line. A way of generating such a `numpy` array is to use the `linspace` function."
   ]
  },
  {
   "cell_type": "code",
   "execution_count": 21,
   "metadata": {
    "collapsed": true,
    "slideshow": {
     "slide_type": "fragment"
    }
   },
   "outputs": [],
   "source": [
    "np.linspace?"
   ]
  },
  {
   "cell_type": "code",
   "execution_count": 23,
   "metadata": {
    "slideshow": {
     "slide_type": "fragment"
    }
   },
   "outputs": [
    {
     "data": {
      "text/plain": [
       "array([-10.        ,  -9.7979798 ,  -9.5959596 ,  -9.39393939,\n",
       "        -9.19191919,  -8.98989899,  -8.78787879,  -8.58585859,\n",
       "        -8.38383838,  -8.18181818,  -7.97979798,  -7.77777778,\n",
       "        -7.57575758,  -7.37373737,  -7.17171717,  -6.96969697,\n",
       "        -6.76767677,  -6.56565657,  -6.36363636,  -6.16161616,\n",
       "        -5.95959596,  -5.75757576,  -5.55555556,  -5.35353535,\n",
       "        -5.15151515,  -4.94949495,  -4.74747475,  -4.54545455,\n",
       "        -4.34343434,  -4.14141414,  -3.93939394,  -3.73737374,\n",
       "        -3.53535354,  -3.33333333,  -3.13131313,  -2.92929293,\n",
       "        -2.72727273,  -2.52525253,  -2.32323232,  -2.12121212,\n",
       "        -1.91919192,  -1.71717172,  -1.51515152,  -1.31313131,\n",
       "        -1.11111111,  -0.90909091,  -0.70707071,  -0.50505051,\n",
       "        -0.3030303 ,  -0.1010101 ,   0.1010101 ,   0.3030303 ,\n",
       "         0.50505051,   0.70707071,   0.90909091,   1.11111111,\n",
       "         1.31313131,   1.51515152,   1.71717172,   1.91919192,\n",
       "         2.12121212,   2.32323232,   2.52525253,   2.72727273,\n",
       "         2.92929293,   3.13131313,   3.33333333,   3.53535354,\n",
       "         3.73737374,   3.93939394,   4.14141414,   4.34343434,\n",
       "         4.54545455,   4.74747475,   4.94949495,   5.15151515,\n",
       "         5.35353535,   5.55555556,   5.75757576,   5.95959596,\n",
       "         6.16161616,   6.36363636,   6.56565657,   6.76767677,\n",
       "         6.96969697,   7.17171717,   7.37373737,   7.57575758,\n",
       "         7.77777778,   7.97979798,   8.18181818,   8.38383838,\n",
       "         8.58585859,   8.78787879,   8.98989899,   9.19191919,\n",
       "         9.39393939,   9.5959596 ,   9.7979798 ,  10.        ])"
      ]
     },
     "execution_count": 23,
     "metadata": {},
     "output_type": "execute_result"
    }
   ],
   "source": [
    "np_A = np.linspace(-10, 10, 100)\n",
    "np_A"
   ]
  },
  {
   "cell_type": "code",
   "execution_count": 25,
   "metadata": {},
   "outputs": [
    {
     "data": {
      "text/plain": [
       "(25, 4)"
      ]
     },
     "execution_count": 25,
     "metadata": {},
     "output_type": "execute_result"
    }
   ],
   "source": [
    "np_A = np_A.reshape(-1, 4)\n",
    "np_A.shape"
   ]
  },
  {
   "cell_type": "markdown",
   "metadata": {
    "slideshow": {
     "slide_type": "slide"
    }
   },
   "source": [
    "## Slicing "
   ]
  },
  {
   "cell_type": "markdown",
   "metadata": {
    "slideshow": {
     "slide_type": "fragment"
    }
   },
   "source": [
    "There are many different ways of slicing an `ndarray`. One needs to be careful about the fact that some give back a view on a slice of the array others copy part of it."
   ]
  },
  {
   "cell_type": "code",
   "execution_count": 33,
   "metadata": {
    "slideshow": {
     "slide_type": "fragment"
    }
   },
   "outputs": [
    {
     "data": {
      "text/plain": [
       "array([[-1.71717172, -1.51515152],\n",
       "       [-0.1010101 ,  0.1010101 ],\n",
       "       [ 1.51515152,  1.71717172]])"
      ]
     },
     "execution_count": 33,
     "metadata": {},
     "output_type": "execute_result"
    }
   ],
   "source": [
    "np_A[10:16:2, 1:3]"
   ]
  },
  {
   "cell_type": "markdown",
   "metadata": {
    "slideshow": {
     "slide_type": "subslide"
    }
   },
   "source": [
    "Standard slicing gives views on subelements of `ndarray`. "
   ]
  },
  {
   "cell_type": "code",
   "execution_count": 34,
   "metadata": {
    "slideshow": {
     "slide_type": "fragment"
    }
   },
   "outputs": [
    {
     "data": {
      "text/plain": [
       "array([[-10.        ,  -9.7979798 ,  -9.5959596 ,  -9.39393939],\n",
       "       [ -9.19191919,  -8.98989899,  -8.78787879,  -8.58585859],\n",
       "       [ -8.38383838,  -8.18181818,  -7.97979798,  -7.77777778],\n",
       "       [ -7.57575758,  -7.37373737,  -7.17171717,  -6.96969697],\n",
       "       [ -6.76767677,  -6.56565657,  -6.36363636,  -6.16161616],\n",
       "       [ -5.95959596,  -5.75757576,  -5.55555556,  -5.35353535],\n",
       "       [ -5.15151515,  -4.94949495,  -4.74747475,  -4.54545455],\n",
       "       [ -4.34343434,  -4.14141414,  -3.93939394,  -3.73737374],\n",
       "       [ -3.53535354,  -3.33333333,  -3.13131313,  -2.92929293],\n",
       "       [ -2.72727273,  -2.52525253,  -2.32323232,  -2.12121212],\n",
       "       [ -1.91919192,  -1.71717172,  -1.51515152,  -1.31313131],\n",
       "       [ -1.11111111,  -0.90909091,  -0.70707071,  -0.50505051],\n",
       "       [ -0.3030303 ,  -0.1010101 ,   0.1010101 ,   0.3030303 ],\n",
       "       [  0.50505051,   0.70707071,   0.90909091,   1.11111111],\n",
       "       [  1.31313131,   1.51515152,   1.71717172,   1.91919192],\n",
       "       [  2.12121212,   2.32323232,   2.52525253,   2.72727273],\n",
       "       [  2.92929293,   3.13131313,   3.33333333,   3.53535354],\n",
       "       [  3.73737374,   3.93939394,   4.14141414,   4.34343434],\n",
       "       [  4.54545455,   4.74747475,   4.94949495,   5.15151515],\n",
       "       [  5.35353535,   5.55555556,   5.75757576,   5.95959596],\n",
       "       [  6.16161616,   6.36363636,   6.56565657,   6.76767677],\n",
       "       [  6.96969697,   7.17171717,   7.37373737,   7.57575758],\n",
       "       [  7.77777778,   7.97979798,   8.18181818,   8.38383838],\n",
       "       [  8.58585859,   8.78787879,   8.98989899,   9.19191919],\n",
       "       [  9.39393939,   9.5959596 ,   9.7979798 ,  10.        ]])"
      ]
     },
     "execution_count": 34,
     "metadata": {},
     "output_type": "execute_result"
    }
   ],
   "source": [
    "np_A"
   ]
  },
  {
   "cell_type": "code",
   "execution_count": 35,
   "metadata": {
    "collapsed": true,
    "slideshow": {
     "slide_type": "fragment"
    }
   },
   "outputs": [],
   "source": [
    "np_B = np_A[10:, 2]"
   ]
  },
  {
   "cell_type": "code",
   "execution_count": 37,
   "metadata": {
    "slideshow": {
     "slide_type": "fragment"
    }
   },
   "outputs": [
    {
     "data": {
      "text/plain": [
       "array([-1.51515152, -0.70707071,  0.1010101 ,  0.90909091,  1.71717172,\n",
       "        2.52525253,  3.33333333,  4.14141414,  4.94949495,  5.75757576,\n",
       "        6.56565657,  7.37373737,  8.18181818,  8.98989899,  9.7979798 ])"
      ]
     },
     "execution_count": 37,
     "metadata": {},
     "output_type": "execute_result"
    }
   ],
   "source": [
    "np_A[10:, 2]"
   ]
  },
  {
   "cell_type": "markdown",
   "metadata": {
    "slideshow": {
     "slide_type": "subslide"
    }
   },
   "source": [
    "Slicing through boolean choices."
   ]
  },
  {
   "cell_type": "code",
   "execution_count": 38,
   "metadata": {
    "slideshow": {
     "slide_type": "fragment"
    }
   },
   "outputs": [
    {
     "data": {
      "text/plain": [
       "array([[ True,  True,  True,  True],\n",
       "       [ True,  True,  True,  True],\n",
       "       [ True,  True,  True,  True],\n",
       "       [ True,  True,  True,  True],\n",
       "       [ True,  True,  True,  True],\n",
       "       [ True,  True,  True,  True],\n",
       "       [ True,  True,  True,  True],\n",
       "       [ True,  True,  True,  True],\n",
       "       [ True,  True,  True,  True],\n",
       "       [ True,  True,  True,  True],\n",
       "       [ True,  True,  True,  True],\n",
       "       [ True,  True,  True,  True],\n",
       "       [ True,  True,  True,  True],\n",
       "       [ True,  True,  True,  True],\n",
       "       [ True,  True,  True,  True],\n",
       "       [False, False, False, False],\n",
       "       [False, False, False, False],\n",
       "       [False, False, False, False],\n",
       "       [False, False, False, False],\n",
       "       [False, False, False, False],\n",
       "       [False, False, False, False],\n",
       "       [False, False, False, False],\n",
       "       [False, False, False, False],\n",
       "       [False, False, False, False],\n",
       "       [False, False, False, False]], dtype=bool)"
      ]
     },
     "execution_count": 38,
     "metadata": {},
     "output_type": "execute_result"
    }
   ],
   "source": [
    "np_A < 2."
   ]
  },
  {
   "cell_type": "code",
   "execution_count": 41,
   "metadata": {
    "slideshow": {
     "slide_type": "fragment"
    }
   },
   "outputs": [
    {
     "data": {
      "text/plain": [
       "array([-10.        ,  -9.7979798 ,  -9.5959596 ,  -9.39393939,\n",
       "        -9.19191919,  -8.98989899,  -8.78787879,  -8.58585859,\n",
       "        -8.38383838,  -8.18181818,  -7.97979798,  -7.77777778,\n",
       "        -7.57575758,  -7.37373737,  -7.17171717,  -6.96969697,\n",
       "        -6.76767677,  -6.56565657,  -6.36363636,  -6.16161616,\n",
       "        -5.95959596,  -5.75757576,  -5.55555556,  -5.35353535,\n",
       "        -5.15151515,  -4.94949495,  -4.74747475,  -4.54545455,\n",
       "        -4.34343434,  -4.14141414,  -3.93939394,  -3.73737374,\n",
       "        -3.53535354,  -3.33333333,  -3.13131313,  -2.92929293,\n",
       "        -2.72727273,  -2.52525253,  -2.32323232,  -2.12121212,\n",
       "        -1.91919192,  -1.71717172,  -1.51515152,  -1.31313131,\n",
       "        -1.11111111,  -0.90909091,  -0.70707071,  -0.50505051,\n",
       "        -0.3030303 ,  -0.1010101 ,   0.1010101 ,   0.3030303 ,\n",
       "         0.50505051,   0.70707071,   0.90909091,   1.11111111,\n",
       "         1.31313131,   1.51515152,   1.71717172,   1.91919192])"
      ]
     },
     "execution_count": 41,
     "metadata": {},
     "output_type": "execute_result"
    }
   ],
   "source": [
    "np_A[np_A <  2]"
   ]
  },
  {
   "cell_type": "markdown",
   "metadata": {
    "slideshow": {
     "slide_type": "subslide"
    }
   },
   "source": [
    "Behaviour of `ndarrays` within boolean conditions."
   ]
  },
  {
   "cell_type": "markdown",
   "metadata": {
    "slideshow": {
     "slide_type": "slide"
    }
   },
   "source": [
    "## Setting Coefficient Values"
   ]
  },
  {
   "cell_type": "code",
   "execution_count": 43,
   "metadata": {
    "slideshow": {
     "slide_type": "fragment"
    }
   },
   "outputs": [],
   "source": [
    "np_A[1, 2] = 1000."
   ]
  },
  {
   "cell_type": "code",
   "execution_count": 49,
   "metadata": {
    "slideshow": {
     "slide_type": "fragment"
    }
   },
   "outputs": [],
   "source": [
    "np_A[::, 0] = -30"
   ]
  },
  {
   "cell_type": "code",
   "execution_count": 50,
   "metadata": {
    "slideshow": {
     "slide_type": "fragment"
    }
   },
   "outputs": [
    {
     "data": {
      "text/plain": [
       "array([[ -3.00000000e+01,  -9.79797980e+00,  -9.59595960e+00,\n",
       "         -9.39393939e+00],\n",
       "       [ -3.00000000e+01,  -8.98989899e+00,   1.00000000e+03,\n",
       "         -8.58585859e+00],\n",
       "       [ -3.00000000e+01,  -8.18181818e+00,  -7.97979798e+00,\n",
       "         -7.77777778e+00],\n",
       "       [ -3.00000000e+01,  -7.37373737e+00,  -7.17171717e+00,\n",
       "         -6.96969697e+00],\n",
       "       [ -3.00000000e+01,  -6.56565657e+00,  -6.36363636e+00,\n",
       "         -6.16161616e+00],\n",
       "       [ -3.00000000e+01,  -5.75757576e+00,  -5.55555556e+00,\n",
       "         -5.35353535e+00],\n",
       "       [ -3.00000000e+01,  -4.94949495e+00,  -4.74747475e+00,\n",
       "         -4.54545455e+00],\n",
       "       [ -3.00000000e+01,  -4.14141414e+00,  -3.93939394e+00,\n",
       "         -3.73737374e+00],\n",
       "       [ -3.00000000e+01,  -3.33333333e+00,  -3.13131313e+00,\n",
       "         -2.92929293e+00],\n",
       "       [ -3.00000000e+01,  -2.52525253e+00,  -2.32323232e+00,\n",
       "         -2.12121212e+00],\n",
       "       [ -3.00000000e+01,  -3.00000000e+01,  -3.00000000e+01,\n",
       "         -3.00000000e+01],\n",
       "       [ -3.00000000e+01,  -9.09090909e-01,  -7.07070707e-01,\n",
       "         -5.05050505e-01],\n",
       "       [ -3.00000000e+01,  -1.01010101e-01,   1.01010101e-01,\n",
       "          3.03030303e-01],\n",
       "       [ -3.00000000e+01,   7.07070707e-01,   9.09090909e-01,\n",
       "          1.11111111e+00],\n",
       "       [ -3.00000000e+01,   1.51515152e+00,   1.71717172e+00,\n",
       "          1.91919192e+00],\n",
       "       [ -3.00000000e+01,   2.32323232e+00,   2.52525253e+00,\n",
       "          2.72727273e+00],\n",
       "       [ -3.00000000e+01,   3.13131313e+00,   3.33333333e+00,\n",
       "          3.53535354e+00],\n",
       "       [ -3.00000000e+01,   3.93939394e+00,   4.14141414e+00,\n",
       "          4.34343434e+00],\n",
       "       [ -3.00000000e+01,   4.74747475e+00,   4.94949495e+00,\n",
       "          5.15151515e+00],\n",
       "       [ -3.00000000e+01,   5.55555556e+00,   5.75757576e+00,\n",
       "          5.95959596e+00],\n",
       "       [ -3.00000000e+01,   6.36363636e+00,   6.56565657e+00,\n",
       "          6.76767677e+00],\n",
       "       [ -3.00000000e+01,   7.17171717e+00,   7.37373737e+00,\n",
       "          7.57575758e+00],\n",
       "       [ -3.00000000e+01,   7.97979798e+00,   8.18181818e+00,\n",
       "          8.38383838e+00],\n",
       "       [ -3.00000000e+01,   8.78787879e+00,   8.98989899e+00,\n",
       "          9.19191919e+00],\n",
       "       [ -3.00000000e+01,   9.59595960e+00,   9.79797980e+00,\n",
       "          1.00000000e+01]])"
      ]
     },
     "execution_count": 50,
     "metadata": {},
     "output_type": "execute_result"
    }
   ],
   "source": [
    "np_A"
   ]
  },
  {
   "cell_type": "markdown",
   "metadata": {
    "slideshow": {
     "slide_type": "slide"
    }
   },
   "source": [
    "## Universal Functions\n",
    "\n",
    "Many standard mathematical functions are reimplemented in numpy to ensure efficiency."
   ]
  },
  {
   "cell_type": "code",
   "execution_count": 51,
   "metadata": {
    "slideshow": {
     "slide_type": "fragment"
    }
   },
   "outputs": [
    {
     "name": "stderr",
     "output_type": "stream",
     "text": [
      "/usr/local/lib/python3.5/dist-packages/ipykernel_launcher.py:1: RuntimeWarning: overflow encountered in exp\n",
      "  \"\"\"Entry point for launching an IPython kernel.\n"
     ]
    },
    {
     "data": {
      "text/plain": [
       "array([[  9.35762297e-14,   5.55637361e-05,   6.80029415e-05,\n",
       "          8.32269459e-05],\n",
       "       [  9.35762297e-14,   1.24662685e-04,              inf,\n",
       "          1.86727806e-04],\n",
       "       [  9.35762297e-14,   2.79692945e-04,   3.42308569e-04,\n",
       "          4.18942123e-04],\n",
       "       [  9.35762297e-14,   6.27518520e-04,   7.68002806e-04,\n",
       "          9.39937692e-04],\n",
       "       [  9.35762297e-14,   1.40789927e-03,   1.72308953e-03,\n",
       "          2.10884229e-03],\n",
       "       [  9.35762297e-14,   3.15875992e-03,   3.86592014e-03,\n",
       "          4.73139424e-03],\n",
       "       [  9.35762297e-14,   7.08698731e-03,   8.67357053e-03,\n",
       "          1.06153465e-02],\n",
       "       [  9.35762297e-14,   1.59003503e-02,   1.94600051e-02,\n",
       "          2.38165696e-02],\n",
       "       [  9.35762297e-14,   3.56739933e-02,   4.36604277e-02,\n",
       "          5.34348070e-02],\n",
       "       [  9.35762297e-14,   8.00380986e-02,   9.79564464e-02,\n",
       "          1.19886224e-01],\n",
       "       [  9.35762297e-14,   9.35762297e-14,   9.35762297e-14,\n",
       "          9.35762297e-14],\n",
       "       [  9.35762297e-14,   4.02890322e-01,   4.93086479e-01,\n",
       "          6.03475096e-01],\n",
       "       [  9.35762297e-14,   9.03923902e-01,   1.10628782e+00,\n",
       "          1.35395549e+00],\n",
       "       [  9.35762297e-14,   2.02804182e+00,   2.48206508e+00,\n",
       "          3.03773178e+00],\n",
       "       [  9.35762297e-14,   4.55011049e+00,   5.56875615e+00,\n",
       "          6.81544881e+00],\n",
       "       [  9.35762297e-14,   1.02086186e+01,   1.24940499e+01,\n",
       "          1.52911270e+01],\n",
       "       [  9.35762297e-14,   2.29040358e+01,   2.80316249e+01,\n",
       "          3.43071414e+01],\n",
       "       [  9.35762297e-14,   5.13874480e+01,   6.28916963e+01,\n",
       "          7.69714323e+01],\n",
       "       [  9.35762297e-14,   1.15292773e+02,   1.41103681e+02,\n",
       "          1.72692948e+02],\n",
       "       [  9.35762297e-14,   2.58670631e+02,   3.16579931e+02,\n",
       "          3.87453546e+02],\n",
       "       [  9.35762297e-14,   5.80352898e+02,   7.10278087e+02,\n",
       "          8.69289984e+02],\n",
       "       [  9.35762297e-14,   1.30207858e+03,   1.59357847e+03,\n",
       "          1.95033723e+03],\n",
       "       [  9.35762297e-14,   2.92134083e+03,   3.57534939e+03,\n",
       "          4.37577263e+03],\n",
       "       [  9.35762297e-14,   6.55431433e+03,   8.02164659e+03,\n",
       "          9.81747453e+03],\n",
       "       [  9.35762297e-14,   1.47052462e+04,   1.79973499e+04,\n",
       "          2.20264658e+04]])"
      ]
     },
     "execution_count": 51,
     "metadata": {},
     "output_type": "execute_result"
    }
   ],
   "source": [
    "np.exp(np_A)"
   ]
  },
  {
   "cell_type": "code",
   "execution_count": 53,
   "metadata": {
    "slideshow": {
     "slide_type": "fragment"
    }
   },
   "outputs": [
    {
     "data": {
      "text/plain": [
       "54.598150033144236"
      ]
     },
     "execution_count": 53,
     "metadata": {},
     "output_type": "execute_result"
    }
   ],
   "source": [
    "m.exp(4.)"
   ]
  },
  {
   "cell_type": "markdown",
   "metadata": {
    "slideshow": {
     "slide_type": "subslide"
    }
   },
   "source": [
    "Standard algebraic operations on matrices implemented for `ndarrays`."
   ]
  },
  {
   "cell_type": "code",
   "execution_count": 54,
   "metadata": {
    "slideshow": {
     "slide_type": "fragment"
    }
   },
   "outputs": [
    {
     "data": {
      "text/plain": [
       "array([[  9.00000000e+02,   9.60004081e+01,   9.20824406e+01,\n",
       "          8.82460973e+01],\n",
       "       [  9.00000000e+02,   8.08182838e+01,   1.00000000e+06,\n",
       "          7.37169677e+01],\n",
       "       [  9.00000000e+02,   6.69421488e+01,   6.36771758e+01,\n",
       "          6.04938272e+01],\n",
       "       [  9.00000000e+02,   5.43720029e+01,   5.14335272e+01,\n",
       "          4.85766758e+01],\n",
       "       [  9.00000000e+02,   4.31078461e+01,   4.04958678e+01,\n",
       "          3.79655137e+01],\n",
       "       [  9.00000000e+02,   3.31496786e+01,   3.08641975e+01,\n",
       "          2.86603408e+01],\n",
       "       [  9.00000000e+02,   2.44975003e+01,   2.25385165e+01,\n",
       "          2.06611570e+01],\n",
       "       [  9.00000000e+02,   1.71513111e+01,   1.55188246e+01,\n",
       "          1.39679625e+01],\n",
       "       [  9.00000000e+02,   1.11111111e+01,   9.80512193e+00,\n",
       "          8.58075707e+00],\n",
       "       [  9.00000000e+02,   6.37690032e+00,   5.39740843e+00,\n",
       "          4.49954086e+00],\n",
       "       [  9.00000000e+02,   9.00000000e+02,   9.00000000e+02,\n",
       "          9.00000000e+02],\n",
       "       [  9.00000000e+02,   8.26446281e-01,   4.99948985e-01,\n",
       "          2.55076013e-01],\n",
       "       [  9.00000000e+02,   1.02030405e-02,   1.02030405e-02,\n",
       "          9.18273646e-02],\n",
       "       [  9.00000000e+02,   4.99948985e-01,   8.26446281e-01,\n",
       "          1.23456790e+00],\n",
       "       [  9.00000000e+02,   2.29568411e+00,   2.94867871e+00,\n",
       "          3.68329762e+00],\n",
       "       [  9.00000000e+02,   5.39740843e+00,   6.37690032e+00,\n",
       "          7.43801653e+00],\n",
       "       [  9.00000000e+02,   9.80512193e+00,   1.11111111e+01,\n",
       "          1.24987246e+01],\n",
       "       [  9.00000000e+02,   1.55188246e+01,   1.71513111e+01,\n",
       "          1.88654219e+01],\n",
       "       [  9.00000000e+02,   2.25385165e+01,   2.44975003e+01,\n",
       "          2.65381084e+01],\n",
       "       [  9.00000000e+02,   3.08641975e+01,   3.31496786e+01,\n",
       "          3.55167840e+01],\n",
       "       [  9.00000000e+02,   4.04958678e+01,   4.31078461e+01,\n",
       "          4.58014488e+01],\n",
       "       [  9.00000000e+02,   5.14335272e+01,   5.43720029e+01,\n",
       "          5.73921028e+01],\n",
       "       [  9.00000000e+02,   6.36771758e+01,   6.69421488e+01,\n",
       "          7.02887460e+01],\n",
       "       [  9.00000000e+02,   7.72268136e+01,   8.08182838e+01,\n",
       "          8.44913784e+01],\n",
       "       [  9.00000000e+02,   9.20824406e+01,   9.60004081e+01,\n",
       "          1.00000000e+02]])"
      ]
     },
     "execution_count": 54,
     "metadata": {},
     "output_type": "execute_result"
    }
   ],
   "source": [
    "np_A * np_A"
   ]
  },
  {
   "cell_type": "code",
   "execution_count": 55,
   "metadata": {
    "slideshow": {
     "slide_type": "fragment"
    }
   },
   "outputs": [
    {
     "data": {
      "text/plain": [
       "array([[ -6.00000000e+01,  -1.95959596e+01,  -1.91919192e+01,\n",
       "         -1.87878788e+01],\n",
       "       [ -6.00000000e+01,  -1.79797980e+01,   2.00000000e+03,\n",
       "         -1.71717172e+01],\n",
       "       [ -6.00000000e+01,  -1.63636364e+01,  -1.59595960e+01,\n",
       "         -1.55555556e+01],\n",
       "       [ -6.00000000e+01,  -1.47474747e+01,  -1.43434343e+01,\n",
       "         -1.39393939e+01],\n",
       "       [ -6.00000000e+01,  -1.31313131e+01,  -1.27272727e+01,\n",
       "         -1.23232323e+01],\n",
       "       [ -6.00000000e+01,  -1.15151515e+01,  -1.11111111e+01,\n",
       "         -1.07070707e+01],\n",
       "       [ -6.00000000e+01,  -9.89898990e+00,  -9.49494949e+00,\n",
       "         -9.09090909e+00],\n",
       "       [ -6.00000000e+01,  -8.28282828e+00,  -7.87878788e+00,\n",
       "         -7.47474747e+00],\n",
       "       [ -6.00000000e+01,  -6.66666667e+00,  -6.26262626e+00,\n",
       "         -5.85858586e+00],\n",
       "       [ -6.00000000e+01,  -5.05050505e+00,  -4.64646465e+00,\n",
       "         -4.24242424e+00],\n",
       "       [ -6.00000000e+01,  -6.00000000e+01,  -6.00000000e+01,\n",
       "         -6.00000000e+01],\n",
       "       [ -6.00000000e+01,  -1.81818182e+00,  -1.41414141e+00,\n",
       "         -1.01010101e+00],\n",
       "       [ -6.00000000e+01,  -2.02020202e-01,   2.02020202e-01,\n",
       "          6.06060606e-01],\n",
       "       [ -6.00000000e+01,   1.41414141e+00,   1.81818182e+00,\n",
       "          2.22222222e+00],\n",
       "       [ -6.00000000e+01,   3.03030303e+00,   3.43434343e+00,\n",
       "          3.83838384e+00],\n",
       "       [ -6.00000000e+01,   4.64646465e+00,   5.05050505e+00,\n",
       "          5.45454545e+00],\n",
       "       [ -6.00000000e+01,   6.26262626e+00,   6.66666667e+00,\n",
       "          7.07070707e+00],\n",
       "       [ -6.00000000e+01,   7.87878788e+00,   8.28282828e+00,\n",
       "          8.68686869e+00],\n",
       "       [ -6.00000000e+01,   9.49494949e+00,   9.89898990e+00,\n",
       "          1.03030303e+01],\n",
       "       [ -6.00000000e+01,   1.11111111e+01,   1.15151515e+01,\n",
       "          1.19191919e+01],\n",
       "       [ -6.00000000e+01,   1.27272727e+01,   1.31313131e+01,\n",
       "          1.35353535e+01],\n",
       "       [ -6.00000000e+01,   1.43434343e+01,   1.47474747e+01,\n",
       "          1.51515152e+01],\n",
       "       [ -6.00000000e+01,   1.59595960e+01,   1.63636364e+01,\n",
       "          1.67676768e+01],\n",
       "       [ -6.00000000e+01,   1.75757576e+01,   1.79797980e+01,\n",
       "          1.83838384e+01],\n",
       "       [ -6.00000000e+01,   1.91919192e+01,   1.95959596e+01,\n",
       "          2.00000000e+01]])"
      ]
     },
     "execution_count": 55,
     "metadata": {},
     "output_type": "execute_result"
    }
   ],
   "source": [
    "np_A + np_A"
   ]
  },
  {
   "cell_type": "code",
   "execution_count": 56,
   "metadata": {
    "slideshow": {
     "slide_type": "fragment"
    }
   },
   "outputs": [
    {
     "ename": "ValueError",
     "evalue": "shapes (25,4) and (25,4) not aligned: 4 (dim 1) != 25 (dim 0)",
     "output_type": "error",
     "traceback": [
      "\u001b[0;31m---------------------------------------------------------------------------\u001b[0m",
      "\u001b[0;31mValueError\u001b[0m                                Traceback (most recent call last)",
      "\u001b[0;32m<ipython-input-56-c7b24b76d646>\u001b[0m in \u001b[0;36m<module>\u001b[0;34m()\u001b[0m\n\u001b[0;32m----> 1\u001b[0;31m \u001b[0mnp_A\u001b[0m\u001b[0;34m.\u001b[0m\u001b[0mdot\u001b[0m\u001b[0;34m(\u001b[0m\u001b[0mnp_A\u001b[0m\u001b[0;34m)\u001b[0m\u001b[0;34m\u001b[0m\u001b[0m\n\u001b[0m",
      "\u001b[0;31mValueError\u001b[0m: shapes (25,4) and (25,4) not aligned: 4 (dim 1) != 25 (dim 0)"
     ]
    }
   ],
   "source": [
    "np_A.dot(np_A)"
   ]
  },
  {
   "cell_type": "markdown",
   "metadata": {
    "slideshow": {
     "slide_type": "slide"
    }
   },
   "source": [
    "## Exercise\n",
    "\n",
    "Look into saving and loading numpy arrays."
   ]
  },
  {
   "cell_type": "code",
   "execution_count": null,
   "metadata": {
    "collapsed": true,
    "slideshow": {
     "slide_type": "fragment"
    }
   },
   "outputs": [],
   "source": []
  },
  {
   "cell_type": "code",
   "execution_count": null,
   "metadata": {
    "collapsed": true,
    "slideshow": {
     "slide_type": "fragment"
    }
   },
   "outputs": [],
   "source": []
  },
  {
   "cell_type": "markdown",
   "metadata": {
    "slideshow": {
     "slide_type": "slide"
    }
   },
   "source": [
    "## Exercise\n",
    "\n",
    "Compare efficiency of `numpy` matrix multiplication to naive function using built-in structures."
   ]
  },
  {
   "cell_type": "code",
   "execution_count": null,
   "metadata": {
    "collapsed": true,
    "slideshow": {
     "slide_type": "fragment"
    }
   },
   "outputs": [],
   "source": []
  },
  {
   "cell_type": "code",
   "execution_count": null,
   "metadata": {
    "collapsed": true,
    "slideshow": {
     "slide_type": "fragment"
    }
   },
   "outputs": [],
   "source": []
  },
  {
   "cell_type": "markdown",
   "metadata": {
    "slideshow": {
     "slide_type": "slide"
    }
   },
   "source": [
    "## Exercise\n",
    "\n",
    "Simulate a random walk using both `numpy` and built-in structures. Compare both functions.\n",
    "\n",
    "* Looking into the documentation of `matplotlib` write down a function enabling you to represent a random walk. "
   ]
  },
  {
   "cell_type": "code",
   "execution_count": null,
   "metadata": {
    "collapsed": true
   },
   "outputs": [],
   "source": []
  }
 ],
 "metadata": {
  "celltoolbar": "Slideshow",
  "kernelspec": {
   "display_name": "Python 3",
   "language": "python",
   "name": "python3"
  },
  "language_info": {
   "codemirror_mode": {
    "name": "ipython",
    "version": 3
   },
   "file_extension": ".py",
   "mimetype": "text/x-python",
   "name": "python",
   "nbconvert_exporter": "python",
   "pygments_lexer": "ipython3",
   "version": "3.6.4"
  }
 },
 "nbformat": 4,
 "nbformat_minor": 2
}
